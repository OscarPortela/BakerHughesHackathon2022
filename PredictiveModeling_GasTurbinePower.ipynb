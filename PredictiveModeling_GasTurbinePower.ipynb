{
 "cells": [
  {
   "cell_type": "code",
   "execution_count": 4,
   "metadata": {},
   "outputs": [],
   "source": [
    "import numpy as np\n",
    "import pandas as pd\n",
    "import matplotlib.pyplot as plt\n",
    "import seaborn as sns\n",
    "from sklearn.feature_selection import SelectKBest, f_regression\n",
    "from sklearn.preprocessing import StandardScaler\n",
    "from sklearn.impute import SimpleImputer\n",
    "from sklearn.model_selection import train_test_split\n",
    "from sklearn.linear_model import LinearRegression\n",
    "from sklearn.metrics import r2_score\n",
    "from sklearn.decomposition import PCA\n",
    "from sklearn.metrics import mean_squared_error\n",
    "from sklearn.linear_model import Ridge\n",
    "from sklearn.linear_model import Lasso\n",
    "from sklearn.linear_model import RidgeCV\n",
    "from sklearn.model_selection import RepeatedKFold\n",
    "from sklearn.model_selection import cross_val_score\n",
    "from numpy import absolute\n",
    "from numpy import mean\n",
    "from numpy import std\n",
    "from numpy import sqrt"
   ]
  },
  {
   "cell_type": "code",
   "execution_count": 5,
   "metadata": {
    "scrolled": false
   },
   "outputs": [
    {
     "data": {
      "text/html": [
       "<div>\n",
       "<style scoped>\n",
       "    .dataframe tbody tr th:only-of-type {\n",
       "        vertical-align: middle;\n",
       "    }\n",
       "\n",
       "    .dataframe tbody tr th {\n",
       "        vertical-align: top;\n",
       "    }\n",
       "\n",
       "    .dataframe thead th {\n",
       "        text-align: right;\n",
       "    }\n",
       "</style>\n",
       "<table border=\"1\" class=\"dataframe\">\n",
       "  <thead>\n",
       "    <tr style=\"text-align: right;\">\n",
       "      <th></th>\n",
       "      <th>T_AMB</th>\n",
       "      <th>P_AMB</th>\n",
       "      <th>CMP_SPEED</th>\n",
       "      <th>CDP</th>\n",
       "      <th>GGDP</th>\n",
       "      <th>HPT_IT</th>\n",
       "      <th>CDT</th>\n",
       "      <th>LPT_IT</th>\n",
       "      <th>EXH_T</th>\n",
       "      <th>RH</th>\n",
       "      <th>WAR</th>\n",
       "      <th>POWER</th>\n",
       "    </tr>\n",
       "    <tr>\n",
       "      <th>date</th>\n",
       "      <th></th>\n",
       "      <th></th>\n",
       "      <th></th>\n",
       "      <th></th>\n",
       "      <th></th>\n",
       "      <th></th>\n",
       "      <th></th>\n",
       "      <th></th>\n",
       "      <th></th>\n",
       "      <th></th>\n",
       "      <th></th>\n",
       "      <th></th>\n",
       "    </tr>\n",
       "  </thead>\n",
       "  <tbody>\n",
       "    <tr>\n",
       "      <th>2021-01-01</th>\n",
       "      <td>14.525423</td>\n",
       "      <td>0.978308</td>\n",
       "      <td>2232.040293</td>\n",
       "      <td>2.834110</td>\n",
       "      <td>1.460890</td>\n",
       "      <td>1126.382309</td>\n",
       "      <td>100.028722</td>\n",
       "      <td>805.744938</td>\n",
       "      <td>558.950401</td>\n",
       "      <td>71.022103</td>\n",
       "      <td>0.000082</td>\n",
       "      <td>11478.130430</td>\n",
       "    </tr>\n",
       "    <tr>\n",
       "      <th>2021-01-02</th>\n",
       "      <td>15.620973</td>\n",
       "      <td>0.978286</td>\n",
       "      <td>3020.000103</td>\n",
       "      <td>3.476021</td>\n",
       "      <td>1.618626</td>\n",
       "      <td>1116.427074</td>\n",
       "      <td>129.490105</td>\n",
       "      <td>797.480682</td>\n",
       "      <td>552.417554</td>\n",
       "      <td>67.279691</td>\n",
       "      <td>0.000082</td>\n",
       "      <td>11271.476123</td>\n",
       "    </tr>\n",
       "    <tr>\n",
       "      <th>2021-01-03</th>\n",
       "      <td>21.545433</td>\n",
       "      <td>0.978238</td>\n",
       "      <td>3928.570879</td>\n",
       "      <td>4.238690</td>\n",
       "      <td>1.808123</td>\n",
       "      <td>1134.291394</td>\n",
       "      <td>169.804536</td>\n",
       "      <td>808.456590</td>\n",
       "      <td>558.829066</td>\n",
       "      <td>49.283438</td>\n",
       "      <td>0.000083</td>\n",
       "      <td>11804.477789</td>\n",
       "    </tr>\n",
       "    <tr>\n",
       "      <th>2021-01-04</th>\n",
       "      <td>26.237703</td>\n",
       "      <td>0.978513</td>\n",
       "      <td>4433.722667</td>\n",
       "      <td>4.816614</td>\n",
       "      <td>1.929452</td>\n",
       "      <td>1129.342278</td>\n",
       "      <td>190.022795</td>\n",
       "      <td>797.905914</td>\n",
       "      <td>545.589356</td>\n",
       "      <td>37.939369</td>\n",
       "      <td>0.000082</td>\n",
       "      <td>12482.753716</td>\n",
       "    </tr>\n",
       "    <tr>\n",
       "      <th>2021-01-05</th>\n",
       "      <td>25.121452</td>\n",
       "      <td>0.978372</td>\n",
       "      <td>5207.878442</td>\n",
       "      <td>5.619231</td>\n",
       "      <td>2.113679</td>\n",
       "      <td>1104.809523</td>\n",
       "      <td>214.536453</td>\n",
       "      <td>770.044473</td>\n",
       "      <td>517.161705</td>\n",
       "      <td>40.261212</td>\n",
       "      <td>0.000082</td>\n",
       "      <td>13224.386448</td>\n",
       "    </tr>\n",
       "  </tbody>\n",
       "</table>\n",
       "</div>"
      ],
      "text/plain": [
       "                T_AMB     P_AMB    CMP_SPEED       CDP      GGDP       HPT_IT  \\\n",
       "date                                                                            \n",
       "2021-01-01  14.525423  0.978308  2232.040293  2.834110  1.460890  1126.382309   \n",
       "2021-01-02  15.620973  0.978286  3020.000103  3.476021  1.618626  1116.427074   \n",
       "2021-01-03  21.545433  0.978238  3928.570879  4.238690  1.808123  1134.291394   \n",
       "2021-01-04  26.237703  0.978513  4433.722667  4.816614  1.929452  1129.342278   \n",
       "2021-01-05  25.121452  0.978372  5207.878442  5.619231  2.113679  1104.809523   \n",
       "\n",
       "                   CDT      LPT_IT       EXH_T         RH       WAR  \\\n",
       "date                                                                  \n",
       "2021-01-01  100.028722  805.744938  558.950401  71.022103  0.000082   \n",
       "2021-01-02  129.490105  797.480682  552.417554  67.279691  0.000082   \n",
       "2021-01-03  169.804536  808.456590  558.829066  49.283438  0.000083   \n",
       "2021-01-04  190.022795  797.905914  545.589356  37.939369  0.000082   \n",
       "2021-01-05  214.536453  770.044473  517.161705  40.261212  0.000082   \n",
       "\n",
       "                   POWER  \n",
       "date                      \n",
       "2021-01-01  11478.130430  \n",
       "2021-01-02  11271.476123  \n",
       "2021-01-03  11804.477789  \n",
       "2021-01-04  12482.753716  \n",
       "2021-01-05  13224.386448  "
      ]
     },
     "execution_count": 5,
     "metadata": {},
     "output_type": "execute_result"
    }
   ],
   "source": [
    "#DataFrames\n",
    "df1 = pd.read_csv(\"./train/data_01.csv\")\n",
    "df2 = pd.read_csv(\"./train/data_02.csv\")\n",
    "df3 = pd.read_csv(\"./train/data_03.csv\")\n",
    "df4 = pd.read_csv(\"./train/data_04.csv\")\n",
    "df5 = pd.read_csv(\"./train/data_05.csv\")\n",
    "df6 = pd.read_csv(\"./train/data_06.csv\")\n",
    "df7 = pd.read_csv(\"./train/data_07.csv\")\n",
    "df8 = pd.read_csv(\"./train/data_08.csv\")\n",
    "df9 = pd.read_csv(\"./train/data_09.csv\")\n",
    "df10 = pd.read_csv(\"./train/data_010.csv\")\n",
    "df11 = pd.read_csv(\"./train/data_011.csv\")\n",
    "df12 = pd.read_csv(\"./train/data_012.csv\")\n",
    "df13 = pd.read_csv(\"./train/data_013.csv\")\n",
    "df14 = pd.read_csv(\"./train/data_014.csv\")\n",
    "df15 = pd.read_csv(\"./train/data_015.csv\")\n",
    "\n",
    "frames = [df1, df2, df3, df4, df5, df6, df7, df8, df9, df10, df11, df12, df13, df14, df15]\n",
    "\n",
    "# DataFrameap = DataFrame.append(frames)\n",
    "DataFrame = pd.concat(frames)\n",
    "\n",
    "\n",
    "# DataFrame.fillna(0, inplace = True)\n",
    "# cols = ['date','T_AMB','P_AMB','CMP_SPEED','CDP','GGDP','HPT_IT','CDT','LPT_IT','EXH_T','RH','WAR','POWER']\n",
    "cols = DataFrame.columns\n",
    "df = DataFrame.groupby('date')[cols].mean()\n",
    "\n",
    "#This is the Train Dataset\n",
    "df.head()\n",
    "# df.head()"
   ]
  },
  {
   "cell_type": "code",
   "execution_count": 6,
   "metadata": {},
   "outputs": [
    {
     "name": "stdout",
     "output_type": "stream",
     "text": [
      "<class 'pandas.core.frame.DataFrame'>\n",
      "Index: 366 entries, 2021-01-01 to 2022-01-01\n",
      "Data columns (total 12 columns):\n",
      " #   Column     Non-Null Count  Dtype  \n",
      "---  ------     --------------  -----  \n",
      " 0   T_AMB      366 non-null    float64\n",
      " 1   P_AMB      366 non-null    float64\n",
      " 2   CMP_SPEED  366 non-null    float64\n",
      " 3   CDP        366 non-null    float64\n",
      " 4   GGDP       366 non-null    float64\n",
      " 5   HPT_IT     366 non-null    float64\n",
      " 6   CDT        366 non-null    float64\n",
      " 7   LPT_IT     366 non-null    float64\n",
      " 8   EXH_T      366 non-null    float64\n",
      " 9   RH         366 non-null    float64\n",
      " 10  WAR        366 non-null    float64\n",
      " 11  POWER      366 non-null    float64\n",
      "dtypes: float64(12)\n",
      "memory usage: 37.2+ KB\n"
     ]
    }
   ],
   "source": [
    "df.info()"
   ]
  },
  {
   "cell_type": "code",
   "execution_count": 7,
   "metadata": {},
   "outputs": [
    {
     "name": "stdout",
     "output_type": "stream",
     "text": [
      "Number of duplicated values:  0\n",
      "\n",
      "Number of missing values: \n",
      "T_AMB        0\n",
      "P_AMB        0\n",
      "CMP_SPEED    0\n",
      "CDP          0\n",
      "GGDP         0\n",
      "HPT_IT       0\n",
      "CDT          0\n",
      "LPT_IT       0\n",
      "EXH_T        0\n",
      "RH           0\n",
      "WAR          0\n",
      "POWER        0\n",
      "dtype: int64\n"
     ]
    }
   ],
   "source": [
    "#Looking for duplicated values\n",
    "DFDuplicated = df.duplicated().sum()\n",
    "print(\"Number of duplicated values: \", DFDuplicated)\n",
    "\n",
    "#Looking for missing values \n",
    "DFMissing = df.isnull().sum()\n",
    "print(\"\\nNumber of missing values: \")\n",
    "print(DFMissing)"
   ]
  },
  {
   "cell_type": "code",
   "execution_count": 8,
   "metadata": {},
   "outputs": [
    {
     "data": {
      "text/plain": [
       "count      366.000000\n",
       "mean     11755.517840\n",
       "std        765.556621\n",
       "min       9416.798321\n",
       "25%      11211.046397\n",
       "50%      11776.048978\n",
       "75%      12332.571076\n",
       "max      13645.445741\n",
       "Name: POWER, dtype: float64"
      ]
     },
     "execution_count": 8,
     "metadata": {},
     "output_type": "execute_result"
    }
   ],
   "source": [
    "#Analyzing the power data stats in train dataset\n",
    "df['POWER'].describe()"
   ]
  },
  {
   "cell_type": "code",
   "execution_count": 9,
   "metadata": {},
   "outputs": [
    {
     "data": {
      "image/png": "[encoded data removed]",
      "text/plain": [
       "<Figure size 432x288 with 1 Axes>"
      ]
     },
     "metadata": {
      "needs_background": "light"
     },
     "output_type": "display_data"
    }
   ],
   "source": [
    "#Histogram\n",
    "df.hist('POWER')\n",
    "plt.title(\"Power (kW)\", fontsize=15)\n",
    "plt.xlabel(\"RPM\",fontsize=13)\n",
    "plt.ylabel(\"kW\",fontsize=13)\n",
    "plt.show()"
   ]
  },
  {
   "cell_type": "code",
   "execution_count": 10,
   "metadata": {},
   "outputs": [
    {
     "data": {
      "image/png": "[encoded data removed]",
      "text/plain": [
       "<Figure size 432x288 with 1 Axes>"
      ]
     },
     "metadata": {
      "needs_background": "light"
     },
     "output_type": "display_data"
    }
   ],
   "source": [
    "df.boxplot('POWER')\n",
    "plt.title('Boxplot Power (kW)', fontsize = 15)\n",
    "plt.show()"
   ]
  },
  {
   "cell_type": "code",
   "execution_count": 11,
   "metadata": {},
   "outputs": [
    {
     "data": {
      "text/plain": [
       "T_AMB        0\n",
       "P_AMB        0\n",
       "CMP_SPEED    0\n",
       "CDP          0\n",
       "GGDP         0\n",
       "HPT_IT       0\n",
       "CDT          0\n",
       "LPT_IT       0\n",
       "EXH_T        0\n",
       "RH           0\n",
       "WAR          0\n",
       "POWER        0\n",
       "dtype: int64"
      ]
     },
     "execution_count": 11,
     "metadata": {},
     "output_type": "execute_result"
    }
   ],
   "source": [
    "df.isnull().sum()"
   ]
  },
  {
   "cell_type": "code",
   "execution_count": 12,
   "metadata": {},
   "outputs": [],
   "source": [
    "col_names = [\"T_AMB\",\"P_AMB\",\"CMP_SPEED\",\"CDP\",\"GGDP\",\"HPT_IT\",\"CDT\",\"LPT_IT\",\"EXH_T\",\"RH\",\"WAR\",\"POWER\"]   \n",
    "feat_names = col_names[:-1]"
   ]
  },
  {
   "cell_type": "code",
   "execution_count": 13,
   "metadata": {},
   "outputs": [
    {
     "data": {
      "text/html": [
       "<div>\n",
       "<style scoped>\n",
       "    .dataframe tbody tr th:only-of-type {\n",
       "        vertical-align: middle;\n",
       "    }\n",
       "\n",
       "    .dataframe tbody tr th {\n",
       "        vertical-align: top;\n",
       "    }\n",
       "\n",
       "    .dataframe thead th {\n",
       "        text-align: right;\n",
       "    }\n",
       "</style>\n",
       "<table border=\"1\" class=\"dataframe\">\n",
       "  <thead>\n",
       "    <tr style=\"text-align: right;\">\n",
       "      <th></th>\n",
       "      <th>T_AMB</th>\n",
       "      <th>P_AMB</th>\n",
       "      <th>CMP_SPEED</th>\n",
       "      <th>CDP</th>\n",
       "      <th>GGDP</th>\n",
       "      <th>HPT_IT</th>\n",
       "      <th>CDT</th>\n",
       "      <th>LPT_IT</th>\n",
       "      <th>EXH_T</th>\n",
       "      <th>RH</th>\n",
       "      <th>WAR</th>\n",
       "      <th>POWER</th>\n",
       "    </tr>\n",
       "    <tr>\n",
       "      <th>date</th>\n",
       "      <th></th>\n",
       "      <th></th>\n",
       "      <th></th>\n",
       "      <th></th>\n",
       "      <th></th>\n",
       "      <th></th>\n",
       "      <th></th>\n",
       "      <th></th>\n",
       "      <th></th>\n",
       "      <th></th>\n",
       "      <th></th>\n",
       "      <th></th>\n",
       "    </tr>\n",
       "  </thead>\n",
       "  <tbody>\n",
       "    <tr>\n",
       "      <th>2021-01-01</th>\n",
       "      <td>-1.331041</td>\n",
       "      <td>-0.343432</td>\n",
       "      <td>-4.732348</td>\n",
       "      <td>-4.504434</td>\n",
       "      <td>-4.619612</td>\n",
       "      <td>-1.212738</td>\n",
       "      <td>-4.738649</td>\n",
       "      <td>-1.167417</td>\n",
       "      <td>-1.145993</td>\n",
       "      <td>1.429782</td>\n",
       "      <td>-1.801989</td>\n",
       "      <td>11478.130430</td>\n",
       "    </tr>\n",
       "    <tr>\n",
       "      <th>2021-01-02</th>\n",
       "      <td>-1.081715</td>\n",
       "      <td>-0.640857</td>\n",
       "      <td>-3.841513</td>\n",
       "      <td>-3.661679</td>\n",
       "      <td>-3.775176</td>\n",
       "      <td>-1.432395</td>\n",
       "      <td>-3.890359</td>\n",
       "      <td>-1.346200</td>\n",
       "      <td>-1.289084</td>\n",
       "      <td>1.126408</td>\n",
       "      <td>-1.493438</td>\n",
       "      <td>11271.476123</td>\n",
       "    </tr>\n",
       "    <tr>\n",
       "      <th>2021-01-03</th>\n",
       "      <td>0.266578</td>\n",
       "      <td>-1.285428</td>\n",
       "      <td>-2.814320</td>\n",
       "      <td>-2.660384</td>\n",
       "      <td>-2.760714</td>\n",
       "      <td>-1.038228</td>\n",
       "      <td>-2.729573</td>\n",
       "      <td>-1.108755</td>\n",
       "      <td>-1.148651</td>\n",
       "      <td>-0.332438</td>\n",
       "      <td>0.390889</td>\n",
       "      <td>11804.477789</td>\n",
       "    </tr>\n",
       "    <tr>\n",
       "      <th>2021-01-04</th>\n",
       "      <td>1.334449</td>\n",
       "      <td>2.391538</td>\n",
       "      <td>-2.243217</td>\n",
       "      <td>-1.901637</td>\n",
       "      <td>-2.111185</td>\n",
       "      <td>-1.147428</td>\n",
       "      <td>-2.147422</td>\n",
       "      <td>-1.337001</td>\n",
       "      <td>-1.438643</td>\n",
       "      <td>-1.252032</td>\n",
       "      <td>-1.659824</td>\n",
       "      <td>12482.753716</td>\n",
       "    </tr>\n",
       "    <tr>\n",
       "      <th>2021-01-05</th>\n",
       "      <td>1.080412</td>\n",
       "      <td>0.513515</td>\n",
       "      <td>-1.367988</td>\n",
       "      <td>-0.847895</td>\n",
       "      <td>-1.124937</td>\n",
       "      <td>-1.688731</td>\n",
       "      <td>-1.441593</td>\n",
       "      <td>-1.939734</td>\n",
       "      <td>-2.061299</td>\n",
       "      <td>-1.063815</td>\n",
       "      <td>-1.005906</td>\n",
       "      <td>13224.386448</td>\n",
       "    </tr>\n",
       "  </tbody>\n",
       "</table>\n",
       "</div>"
      ],
      "text/plain": [
       "               T_AMB     P_AMB  CMP_SPEED       CDP      GGDP    HPT_IT  \\\n",
       "date                                                                      \n",
       "2021-01-01 -1.331041 -0.343432  -4.732348 -4.504434 -4.619612 -1.212738   \n",
       "2021-01-02 -1.081715 -0.640857  -3.841513 -3.661679 -3.775176 -1.432395   \n",
       "2021-01-03  0.266578 -1.285428  -2.814320 -2.660384 -2.760714 -1.038228   \n",
       "2021-01-04  1.334449  2.391538  -2.243217 -1.901637 -2.111185 -1.147428   \n",
       "2021-01-05  1.080412  0.513515  -1.367988 -0.847895 -1.124937 -1.688731   \n",
       "\n",
       "                 CDT    LPT_IT     EXH_T        RH       WAR         POWER  \n",
       "date                                                                        \n",
       "2021-01-01 -4.738649 -1.167417 -1.145993  1.429782 -1.801989  11478.130430  \n",
       "2021-01-02 -3.890359 -1.346200 -1.289084  1.126408 -1.493438  11271.476123  \n",
       "2021-01-03 -2.729573 -1.108755 -1.148651 -0.332438  0.390889  11804.477789  \n",
       "2021-01-04 -2.147422 -1.337001 -1.438643 -1.252032 -1.659824  12482.753716  \n",
       "2021-01-05 -1.441593 -1.939734 -2.061299 -1.063815 -1.005906  13224.386448  "
      ]
     },
     "execution_count": 13,
     "metadata": {},
     "output_type": "execute_result"
    }
   ],
   "source": [
    "std_sclr = StandardScaler()\n",
    "df_ss = df.copy()\n",
    "df_ss[feat_names] = std_sclr.fit_transform(df_ss[feat_names])\n",
    "df_ss.head()"
   ]
  },
  {
   "cell_type": "code",
   "execution_count": 14,
   "metadata": {},
   "outputs": [
    {
     "data": {
      "image/png": "[encoded data removed]",
      "text/plain": [
       "<Figure size 432x288 with 1 Axes>"
      ]
     },
     "metadata": {
      "needs_background": "light"
     },
     "output_type": "display_data"
    }
   ],
   "source": [
    "#Histogram of thw most important feature 'EXH_T'\n",
    "df.hist('EXH_T')\n",
    "plt.title(\"\", fontsize=15)\n",
    "plt.xlabel(\"\",fontsize=13)\n",
    "plt.ylabel(\"\",fontsize=13)\n",
    "plt.show()"
   ]
  },
  {
   "cell_type": "code",
   "execution_count": 15,
   "metadata": {},
   "outputs": [
    {
     "data": {
      "image/png": "[encoded data removed]",
      "text/plain": [
       "<Figure size 432x288 with 1 Axes>"
      ]
     },
     "metadata": {
      "needs_background": "light"
     },
     "output_type": "display_data"
    }
   ],
   "source": [
    "#Standarization of the most important feature 'EXH_T'\n",
    "df_ss.hist('EXH_T')\n",
    "plt.title(\"\", fontsize=15)\n",
    "plt.xlabel(\"\",fontsize=13)\n",
    "plt.ylabel(\"\",fontsize=13)\n",
    "plt.show()"
   ]
  },
  {
   "cell_type": "code",
   "execution_count": 16,
   "metadata": {},
   "outputs": [
    {
     "data": {
      "text/plain": [
       "SelectKBest(k='all', score_func=<function f_regression at 0x00000236B4E0A1F0>)"
      ]
     },
     "execution_count": 16,
     "metadata": {},
     "output_type": "execute_result"
    }
   ],
   "source": [
    "#Using standarized data\n",
    "feature_selector = SelectKBest(score_func=f_regression, k='all')\n",
    "feature_selector.fit(df_ss[feat_names], df_ss[\"POWER\"])"
   ]
  },
  {
   "cell_type": "code",
   "execution_count": 17,
   "metadata": {},
   "outputs": [],
   "source": [
    "feat_scores = sorted(feature_selector.scores_, reverse=True)"
   ]
  },
  {
   "cell_type": "code",
   "execution_count": 18,
   "metadata": {},
   "outputs": [
    {
     "data": {
      "image/png": "[encoded data removed]",
      "text/plain": [
       "<Figure size 432x288 with 1 Axes>"
      ]
     },
     "metadata": {
      "needs_background": "light"
     },
     "output_type": "display_data"
    }
   ],
   "source": [
    "plt.barh([df_ss.columns[i] for i in range(len(feature_selector.scores_))], feature_selector.scores_)\n",
    "plt.title(\"KBest Feature Selector\")\n",
    "plt.ylim(-1,11)\n",
    "plt.show()"
   ]
  },
  {
   "cell_type": "code",
   "execution_count": 19,
   "metadata": {},
   "outputs": [
    {
     "name": "stdout",
     "output_type": "stream",
     "text": [
      "Index(['date', 'T_AMB', 'P_AMB', 'CMP_SPEED', 'CDP', 'GGDP', 'HPT_IT', 'CDT',\n",
      "       'LPT_IT', 'EXH_T', 'RH', 'WAR', 'POWER'],\n",
      "      dtype='object')\n"
     ]
    }
   ],
   "source": [
    "print(cols)"
   ]
  },
  {
   "cell_type": "code",
   "execution_count": 20,
   "metadata": {},
   "outputs": [],
   "source": [
    "high_corr_ =  ['EXH_T', 'LPT_IT', 'HPT_IT', 'CDP']\n",
    "y = ['POWER']"
   ]
  },
  {
   "cell_type": "code",
   "execution_count": 21,
   "metadata": {},
   "outputs": [],
   "source": [
    "# sns_plot = sns.pairplot(df[high_corr_+y], size=2)"
   ]
  },
  {
   "cell_type": "markdown",
   "metadata": {},
   "source": [
    "# Linear Regression Model"
   ]
  },
  {
   "cell_type": "markdown",
   "metadata": {},
   "source": [
    "### Correlation Features #1"
   ]
  },
  {
   "cell_type": "code",
   "execution_count": 22,
   "metadata": {},
   "outputs": [],
   "source": [
    "#By this analysis and trying to avoid collinearity, we must drop LPT_IT\n",
    "high_corr1 =  ['EXH_T', 'HPT_IT', 'CDP']"
   ]
  },
  {
   "cell_type": "code",
   "execution_count": 23,
   "metadata": {},
   "outputs": [
    {
     "data": {
      "text/plain": [
       "date\n",
       "2021-01-01    11478.130430\n",
       "2021-01-02    11271.476123\n",
       "2021-01-03    11804.477789\n",
       "2021-01-04    12482.753716\n",
       "2021-01-05    13224.386448\n",
       "Name: POWER, dtype: float64"
      ]
     },
     "execution_count": 23,
     "metadata": {},
     "output_type": "execute_result"
    }
   ],
   "source": [
    "#Creating the model with Standarization of numerical values (All the rows and columns)\n",
    "# x = df_ss[high_corr1]\n",
    "# y = df_ss['POWER']\n",
    "\n",
    "x = df[high_corr1]\n",
    "y = df['POWER']\n",
    "\n",
    "y.head()"
   ]
  },
  {
   "cell_type": "code",
   "execution_count": 24,
   "metadata": {},
   "outputs": [
    {
     "data": {
      "text/html": [
       "<div>\n",
       "<style scoped>\n",
       "    .dataframe tbody tr th:only-of-type {\n",
       "        vertical-align: middle;\n",
       "    }\n",
       "\n",
       "    .dataframe tbody tr th {\n",
       "        vertical-align: top;\n",
       "    }\n",
       "\n",
       "    .dataframe thead th {\n",
       "        text-align: right;\n",
       "    }\n",
       "</style>\n",
       "<table border=\"1\" class=\"dataframe\">\n",
       "  <thead>\n",
       "    <tr style=\"text-align: right;\">\n",
       "      <th></th>\n",
       "      <th>EXH_T</th>\n",
       "      <th>HPT_IT</th>\n",
       "      <th>CDP</th>\n",
       "    </tr>\n",
       "    <tr>\n",
       "      <th>date</th>\n",
       "      <th></th>\n",
       "      <th></th>\n",
       "      <th></th>\n",
       "    </tr>\n",
       "  </thead>\n",
       "  <tbody>\n",
       "    <tr>\n",
       "      <th>2021-01-01</th>\n",
       "      <td>558.950401</td>\n",
       "      <td>1126.382309</td>\n",
       "      <td>2.834110</td>\n",
       "    </tr>\n",
       "    <tr>\n",
       "      <th>2021-01-02</th>\n",
       "      <td>552.417554</td>\n",
       "      <td>1116.427074</td>\n",
       "      <td>3.476021</td>\n",
       "    </tr>\n",
       "    <tr>\n",
       "      <th>2021-01-03</th>\n",
       "      <td>558.829066</td>\n",
       "      <td>1134.291394</td>\n",
       "      <td>4.238690</td>\n",
       "    </tr>\n",
       "    <tr>\n",
       "      <th>2021-01-04</th>\n",
       "      <td>545.589356</td>\n",
       "      <td>1129.342278</td>\n",
       "      <td>4.816614</td>\n",
       "    </tr>\n",
       "    <tr>\n",
       "      <th>2021-01-05</th>\n",
       "      <td>517.161705</td>\n",
       "      <td>1104.809523</td>\n",
       "      <td>5.619231</td>\n",
       "    </tr>\n",
       "  </tbody>\n",
       "</table>\n",
       "</div>"
      ],
      "text/plain": [
       "                 EXH_T       HPT_IT       CDP\n",
       "date                                         \n",
       "2021-01-01  558.950401  1126.382309  2.834110\n",
       "2021-01-02  552.417554  1116.427074  3.476021\n",
       "2021-01-03  558.829066  1134.291394  4.238690\n",
       "2021-01-04  545.589356  1129.342278  4.816614\n",
       "2021-01-05  517.161705  1104.809523  5.619231"
      ]
     },
     "execution_count": 24,
     "metadata": {},
     "output_type": "execute_result"
    }
   ],
   "source": [
    "x.head()"
   ]
  },
  {
   "cell_type": "code",
   "execution_count": 25,
   "metadata": {},
   "outputs": [
    {
     "name": "stdout",
     "output_type": "stream",
     "text": [
      "Train: (292, 3) (292,)\n",
      "Test:  (74, 3) (74,)\n"
     ]
    }
   ],
   "source": [
    "#Test-Train Split\n",
    "data_all = x\n",
    "target_all = y\n",
    "\n",
    "data_train, data_test, target_train, target_test = train_test_split(data_all, target_all, test_size = .2, random_state=42)\n",
    "\n",
    "print(\"Train:\", data_train.shape, target_train.shape)\n",
    "print(\"Test: \", data_test.shape, target_test.shape)\n"
   ]
  },
  {
   "cell_type": "code",
   "execution_count": 26,
   "metadata": {},
   "outputs": [],
   "source": [
    "lin_model = LinearRegression()"
   ]
  },
  {
   "cell_type": "code",
   "execution_count": 27,
   "metadata": {},
   "outputs": [
    {
     "data": {
      "text/plain": [
       "LinearRegression()"
      ]
     },
     "execution_count": 27,
     "metadata": {},
     "output_type": "execute_result"
    }
   ],
   "source": [
    "#Training the data with Training dataset\n",
    "lin_model.fit(data_train, target_train)"
   ]
  },
  {
   "cell_type": "code",
   "execution_count": 28,
   "metadata": {},
   "outputs": [
    {
     "data": {
      "text/html": [
       "<div>\n",
       "<style scoped>\n",
       "    .dataframe tbody tr th:only-of-type {\n",
       "        vertical-align: middle;\n",
       "    }\n",
       "\n",
       "    .dataframe tbody tr th {\n",
       "        vertical-align: top;\n",
       "    }\n",
       "\n",
       "    .dataframe thead th {\n",
       "        text-align: right;\n",
       "    }\n",
       "</style>\n",
       "<table border=\"1\" class=\"dataframe\">\n",
       "  <thead>\n",
       "    <tr style=\"text-align: right;\">\n",
       "      <th></th>\n",
       "      <th>actual</th>\n",
       "      <th>predicted</th>\n",
       "    </tr>\n",
       "    <tr>\n",
       "      <th>date</th>\n",
       "      <th></th>\n",
       "      <th></th>\n",
       "    </tr>\n",
       "  </thead>\n",
       "  <tbody>\n",
       "    <tr>\n",
       "      <th>2021-12-08</th>\n",
       "      <td>11396.236652</td>\n",
       "      <td>11298.699707</td>\n",
       "    </tr>\n",
       "    <tr>\n",
       "      <th>2021-07-22</th>\n",
       "      <td>12175.822312</td>\n",
       "      <td>12656.006114</td>\n",
       "    </tr>\n",
       "    <tr>\n",
       "      <th>2021-03-17</th>\n",
       "      <td>10930.927370</td>\n",
       "      <td>11377.357124</td>\n",
       "    </tr>\n",
       "    <tr>\n",
       "      <th>2021-03-26</th>\n",
       "      <td>11462.555216</td>\n",
       "      <td>11422.952411</td>\n",
       "    </tr>\n",
       "    <tr>\n",
       "      <th>2021-12-21</th>\n",
       "      <td>10015.578233</td>\n",
       "      <td>9802.420416</td>\n",
       "    </tr>\n",
       "  </tbody>\n",
       "</table>\n",
       "</div>"
      ],
      "text/plain": [
       "                  actual     predicted\n",
       "date                                  \n",
       "2021-12-08  11396.236652  11298.699707\n",
       "2021-07-22  12175.822312  12656.006114\n",
       "2021-03-17  10930.927370  11377.357124\n",
       "2021-03-26  11462.555216  11422.952411\n",
       "2021-12-21  10015.578233   9802.420416"
      ]
     },
     "execution_count": 28,
     "metadata": {},
     "output_type": "execute_result"
    }
   ],
   "source": [
    "#Making a prediction using training data\n",
    "target_train_predict = lin_model.predict(data_train)\n",
    "\n",
    "#Exploring the prediction results\n",
    "df_train_model = pd.DataFrame()\n",
    "df_train_model[\"actual\"] = target_train\n",
    "df_train_model[\"predicted\"] = target_train_predict\n",
    "df_train_model.head()"
   ]
  },
  {
   "cell_type": "code",
   "execution_count": 29,
   "metadata": {},
   "outputs": [
    {
     "data": {
      "text/html": [
       "<div>\n",
       "<style scoped>\n",
       "    .dataframe tbody tr th:only-of-type {\n",
       "        vertical-align: middle;\n",
       "    }\n",
       "\n",
       "    .dataframe tbody tr th {\n",
       "        vertical-align: top;\n",
       "    }\n",
       "\n",
       "    .dataframe thead th {\n",
       "        text-align: right;\n",
       "    }\n",
       "</style>\n",
       "<table border=\"1\" class=\"dataframe\">\n",
       "  <thead>\n",
       "    <tr style=\"text-align: right;\">\n",
       "      <th></th>\n",
       "      <th>actual</th>\n",
       "      <th>predicted</th>\n",
       "    </tr>\n",
       "    <tr>\n",
       "      <th>date</th>\n",
       "      <th></th>\n",
       "      <th></th>\n",
       "    </tr>\n",
       "  </thead>\n",
       "  <tbody>\n",
       "    <tr>\n",
       "      <th>2021-07-13</th>\n",
       "      <td>12523.452766</td>\n",
       "      <td>11936.432169</td>\n",
       "    </tr>\n",
       "    <tr>\n",
       "      <th>2021-02-03</th>\n",
       "      <td>11356.766009</td>\n",
       "      <td>11720.637086</td>\n",
       "    </tr>\n",
       "    <tr>\n",
       "      <th>2021-01-16</th>\n",
       "      <td>11788.773072</td>\n",
       "      <td>12356.843495</td>\n",
       "    </tr>\n",
       "    <tr>\n",
       "      <th>2021-11-07</th>\n",
       "      <td>12475.579158</td>\n",
       "      <td>11945.082812</td>\n",
       "    </tr>\n",
       "    <tr>\n",
       "      <th>2021-02-27</th>\n",
       "      <td>11161.354163</td>\n",
       "      <td>11843.819308</td>\n",
       "    </tr>\n",
       "  </tbody>\n",
       "</table>\n",
       "</div>"
      ],
      "text/plain": [
       "                  actual     predicted\n",
       "date                                  \n",
       "2021-07-13  12523.452766  11936.432169\n",
       "2021-02-03  11356.766009  11720.637086\n",
       "2021-01-16  11788.773072  12356.843495\n",
       "2021-11-07  12475.579158  11945.082812\n",
       "2021-02-27  11161.354163  11843.819308"
      ]
     },
     "execution_count": 29,
     "metadata": {},
     "output_type": "execute_result"
    }
   ],
   "source": [
    "#Prediction using test data set (Which comes from the test split of the training dataset)\n",
    "target_test_predict = lin_model.predict(data_test)\n",
    "\n",
    "\n",
    "#Exploring the prediction results\n",
    "df_test_model = pd.DataFrame()\n",
    "df_test_model[\"actual\"] = target_test\n",
    "df_test_model[\"predicted\"] = target_test_predict\n",
    "df_test_model.head()"
   ]
  },
  {
   "cell_type": "code",
   "execution_count": 30,
   "metadata": {},
   "outputs": [
    {
     "data": {
      "image/png": "[encoded data removed]",
      "text/plain": [
       "<Figure size 432x288 with 1 Axes>"
      ]
     },
     "metadata": {
      "needs_background": "light"
     },
     "output_type": "display_data"
    }
   ],
   "source": [
    "#Este grafico permite detectar outliers haciendo una relacion entre \n",
    "#la dispersion del target train y para el target test, \n",
    "plt.scatter(target_train_predict, target_train_predict - target_train, c=\"steelblue\", alpha=0.25)\n",
    "plt.scatter(target_test_predict, target_test_predict - target_test, c=\"orange\", alpha=0.25)\n",
    "plt.hlines(0, 8000, 15000, linestyle=\"--\", linewidth=1)\n",
    "plt.xlim(8000, 15000)\n",
    "plt.title(\"Residuals High Corr1\")\n",
    "plt.show()"
   ]
  },
  {
   "cell_type": "code",
   "execution_count": 31,
   "metadata": {},
   "outputs": [
    {
     "name": "stdout",
     "output_type": "stream",
     "text": [
      "RMSE for taining data: 384.0095\n",
      "RMSE for testing data: 370.0893\n"
     ]
    }
   ],
   "source": [
    "#Error\n",
    "rmse_train = (np.sqrt(mean_squared_error(target_train, target_train_predict)))\n",
    "rmse_test = (np.sqrt(mean_squared_error(target_test, target_test_predict)))\n",
    "\n",
    "print(\"RMSE for taining data: {:.4f}\".format(rmse_train))\n",
    "print(\"RMSE for testing data: {:.4f}\".format(rmse_test))"
   ]
  },
  {
   "cell_type": "code",
   "execution_count": 32,
   "metadata": {},
   "outputs": [
    {
     "data": {
      "text/html": [
       "<div>\n",
       "<style scoped>\n",
       "    .dataframe tbody tr th:only-of-type {\n",
       "        vertical-align: middle;\n",
       "    }\n",
       "\n",
       "    .dataframe tbody tr th {\n",
       "        vertical-align: top;\n",
       "    }\n",
       "\n",
       "    .dataframe thead th {\n",
       "        text-align: right;\n",
       "    }\n",
       "</style>\n",
       "<table border=\"1\" class=\"dataframe\">\n",
       "  <thead>\n",
       "    <tr style=\"text-align: right;\">\n",
       "      <th></th>\n",
       "      <th>0</th>\n",
       "    </tr>\n",
       "  </thead>\n",
       "  <tbody>\n",
       "    <tr>\n",
       "      <th>0</th>\n",
       "      <td>-3661.656636</td>\n",
       "    </tr>\n",
       "    <tr>\n",
       "      <th>1</th>\n",
       "      <td>13535.298147</td>\n",
       "    </tr>\n",
       "    <tr>\n",
       "      <th>2</th>\n",
       "      <td>13723.453474</td>\n",
       "    </tr>\n",
       "    <tr>\n",
       "      <th>3</th>\n",
       "      <td>13809.551712</td>\n",
       "    </tr>\n",
       "    <tr>\n",
       "      <th>4</th>\n",
       "      <td>13755.311957</td>\n",
       "    </tr>\n",
       "  </tbody>\n",
       "</table>\n",
       "</div>"
      ],
      "text/plain": [
       "              0\n",
       "0  -3661.656636\n",
       "1  13535.298147\n",
       "2  13723.453474\n",
       "3  13809.551712\n",
       "4  13755.311957"
      ]
     },
     "execution_count": 32,
     "metadata": {},
     "output_type": "execute_result"
    }
   ],
   "source": [
    "#Running the model with the real testing data...\n",
    "\n",
    "file = \"./train/data_01.csv\"\n",
    "df_test = pd.read_csv(file) \n",
    "\n",
    "# Set index as date so we don't have to deal with it\n",
    "df_test = df_test.set_index('date')\n",
    "\n",
    "# Handling missing values of df_test\n",
    "df_test.fillna(0, inplace = True)\n",
    "\n",
    "# Predictions using the test set\n",
    "df_test = df_test[high_corr1]\n",
    "\n",
    "y_pred = lin_model.predict(df_test)\n",
    "\n",
    "y_pred = pd.DataFrame(y_pred)\n",
    "\n",
    "y_pred.head()"
   ]
  },
  {
   "cell_type": "markdown",
   "metadata": {},
   "source": [
    "- With the High Correlation 1 features, and using the RMSE we get the error showed above\n"
   ]
  },
  {
   "cell_type": "markdown",
   "metadata": {},
   "source": [
    "### Correlation Features #2"
   ]
  },
  {
   "cell_type": "markdown",
   "metadata": {},
   "source": [
    "###### Remember that we are working with Standarized Training data"
   ]
  },
  {
   "cell_type": "code",
   "execution_count": 33,
   "metadata": {},
   "outputs": [],
   "source": [
    "high_corr2 =  ['CMP_SPEED', 'CDP', 'GGDP', 'HPT_IT', 'CDT', 'LPT_IT', 'EXH_T']"
   ]
  },
  {
   "cell_type": "code",
   "execution_count": 34,
   "metadata": {},
   "outputs": [
    {
     "data": {
      "text/plain": [
       "date\n",
       "2021-01-01    11478.130430\n",
       "2021-01-02    11271.476123\n",
       "2021-01-03    11804.477789\n",
       "2021-01-04    12482.753716\n",
       "2021-01-05    13224.386448\n",
       "Name: POWER, dtype: float64"
      ]
     },
     "execution_count": 34,
     "metadata": {},
     "output_type": "execute_result"
    }
   ],
   "source": [
    "#Creating the model with Standarization of numerical values (All the rows and columns)\n",
    "# x = df_ss[high_corr2]\n",
    "# y = df_ss['POWER']\n",
    "\n",
    "x = df[high_corr2]\n",
    "y = df['POWER']\n",
    "y.head()"
   ]
  },
  {
   "cell_type": "code",
   "execution_count": 35,
   "metadata": {},
   "outputs": [
    {
     "data": {
      "text/html": [
       "<div>\n",
       "<style scoped>\n",
       "    .dataframe tbody tr th:only-of-type {\n",
       "        vertical-align: middle;\n",
       "    }\n",
       "\n",
       "    .dataframe tbody tr th {\n",
       "        vertical-align: top;\n",
       "    }\n",
       "\n",
       "    .dataframe thead th {\n",
       "        text-align: right;\n",
       "    }\n",
       "</style>\n",
       "<table border=\"1\" class=\"dataframe\">\n",
       "  <thead>\n",
       "    <tr style=\"text-align: right;\">\n",
       "      <th></th>\n",
       "      <th>CMP_SPEED</th>\n",
       "      <th>CDP</th>\n",
       "      <th>GGDP</th>\n",
       "      <th>HPT_IT</th>\n",
       "      <th>CDT</th>\n",
       "      <th>LPT_IT</th>\n",
       "      <th>EXH_T</th>\n",
       "    </tr>\n",
       "    <tr>\n",
       "      <th>date</th>\n",
       "      <th></th>\n",
       "      <th></th>\n",
       "      <th></th>\n",
       "      <th></th>\n",
       "      <th></th>\n",
       "      <th></th>\n",
       "      <th></th>\n",
       "    </tr>\n",
       "  </thead>\n",
       "  <tbody>\n",
       "    <tr>\n",
       "      <th>2021-01-01</th>\n",
       "      <td>2232.040293</td>\n",
       "      <td>2.834110</td>\n",
       "      <td>1.460890</td>\n",
       "      <td>1126.382309</td>\n",
       "      <td>100.028722</td>\n",
       "      <td>805.744938</td>\n",
       "      <td>558.950401</td>\n",
       "    </tr>\n",
       "    <tr>\n",
       "      <th>2021-01-02</th>\n",
       "      <td>3020.000103</td>\n",
       "      <td>3.476021</td>\n",
       "      <td>1.618626</td>\n",
       "      <td>1116.427074</td>\n",
       "      <td>129.490105</td>\n",
       "      <td>797.480682</td>\n",
       "      <td>552.417554</td>\n",
       "    </tr>\n",
       "    <tr>\n",
       "      <th>2021-01-03</th>\n",
       "      <td>3928.570879</td>\n",
       "      <td>4.238690</td>\n",
       "      <td>1.808123</td>\n",
       "      <td>1134.291394</td>\n",
       "      <td>169.804536</td>\n",
       "      <td>808.456590</td>\n",
       "      <td>558.829066</td>\n",
       "    </tr>\n",
       "    <tr>\n",
       "      <th>2021-01-04</th>\n",
       "      <td>4433.722667</td>\n",
       "      <td>4.816614</td>\n",
       "      <td>1.929452</td>\n",
       "      <td>1129.342278</td>\n",
       "      <td>190.022795</td>\n",
       "      <td>797.905914</td>\n",
       "      <td>545.589356</td>\n",
       "    </tr>\n",
       "    <tr>\n",
       "      <th>2021-01-05</th>\n",
       "      <td>5207.878442</td>\n",
       "      <td>5.619231</td>\n",
       "      <td>2.113679</td>\n",
       "      <td>1104.809523</td>\n",
       "      <td>214.536453</td>\n",
       "      <td>770.044473</td>\n",
       "      <td>517.161705</td>\n",
       "    </tr>\n",
       "  </tbody>\n",
       "</table>\n",
       "</div>"
      ],
      "text/plain": [
       "              CMP_SPEED       CDP      GGDP       HPT_IT         CDT  \\\n",
       "date                                                                   \n",
       "2021-01-01  2232.040293  2.834110  1.460890  1126.382309  100.028722   \n",
       "2021-01-02  3020.000103  3.476021  1.618626  1116.427074  129.490105   \n",
       "2021-01-03  3928.570879  4.238690  1.808123  1134.291394  169.804536   \n",
       "2021-01-04  4433.722667  4.816614  1.929452  1129.342278  190.022795   \n",
       "2021-01-05  5207.878442  5.619231  2.113679  1104.809523  214.536453   \n",
       "\n",
       "                LPT_IT       EXH_T  \n",
       "date                                \n",
       "2021-01-01  805.744938  558.950401  \n",
       "2021-01-02  797.480682  552.417554  \n",
       "2021-01-03  808.456590  558.829066  \n",
       "2021-01-04  797.905914  545.589356  \n",
       "2021-01-05  770.044473  517.161705  "
      ]
     },
     "execution_count": 35,
     "metadata": {},
     "output_type": "execute_result"
    }
   ],
   "source": [
    "x.head()"
   ]
  },
  {
   "cell_type": "code",
   "execution_count": 36,
   "metadata": {},
   "outputs": [
    {
     "name": "stdout",
     "output_type": "stream",
     "text": [
      "Train: (292, 7) (292,)\n",
      "Test:  (74, 7) (74,)\n"
     ]
    }
   ],
   "source": [
    "#Test-Train Split\n",
    "data_all = x\n",
    "target_all = y\n",
    "\n",
    "data_train, data_test, target_train, target_test = train_test_split(data_all, target_all, test_size = .2, random_state=42)\n",
    "\n",
    "print(\"Train:\", data_train.shape, target_train.shape)\n",
    "print(\"Test: \", data_test.shape, target_test.shape)\n"
   ]
  },
  {
   "cell_type": "code",
   "execution_count": 37,
   "metadata": {},
   "outputs": [],
   "source": [
    "lin_model = LinearRegression()"
   ]
  },
  {
   "cell_type": "code",
   "execution_count": 38,
   "metadata": {},
   "outputs": [
    {
     "data": {
      "text/plain": [
       "LinearRegression()"
      ]
     },
     "execution_count": 38,
     "metadata": {},
     "output_type": "execute_result"
    }
   ],
   "source": [
    "#Training the data with Training dataset\n",
    "lin_model.fit(data_train, target_train)"
   ]
  },
  {
   "cell_type": "code",
   "execution_count": 39,
   "metadata": {},
   "outputs": [
    {
     "data": {
      "text/html": [
       "<div>\n",
       "<style scoped>\n",
       "    .dataframe tbody tr th:only-of-type {\n",
       "        vertical-align: middle;\n",
       "    }\n",
       "\n",
       "    .dataframe tbody tr th {\n",
       "        vertical-align: top;\n",
       "    }\n",
       "\n",
       "    .dataframe thead th {\n",
       "        text-align: right;\n",
       "    }\n",
       "</style>\n",
       "<table border=\"1\" class=\"dataframe\">\n",
       "  <thead>\n",
       "    <tr style=\"text-align: right;\">\n",
       "      <th></th>\n",
       "      <th>actual</th>\n",
       "      <th>predicted</th>\n",
       "    </tr>\n",
       "    <tr>\n",
       "      <th>date</th>\n",
       "      <th></th>\n",
       "      <th></th>\n",
       "    </tr>\n",
       "  </thead>\n",
       "  <tbody>\n",
       "    <tr>\n",
       "      <th>2021-12-08</th>\n",
       "      <td>11396.236652</td>\n",
       "      <td>11553.177740</td>\n",
       "    </tr>\n",
       "    <tr>\n",
       "      <th>2021-07-22</th>\n",
       "      <td>12175.822312</td>\n",
       "      <td>12436.813314</td>\n",
       "    </tr>\n",
       "    <tr>\n",
       "      <th>2021-03-17</th>\n",
       "      <td>10930.927370</td>\n",
       "      <td>10920.830076</td>\n",
       "    </tr>\n",
       "    <tr>\n",
       "      <th>2021-03-26</th>\n",
       "      <td>11462.555216</td>\n",
       "      <td>11575.089826</td>\n",
       "    </tr>\n",
       "    <tr>\n",
       "      <th>2021-12-21</th>\n",
       "      <td>10015.578233</td>\n",
       "      <td>9829.332350</td>\n",
       "    </tr>\n",
       "  </tbody>\n",
       "</table>\n",
       "</div>"
      ],
      "text/plain": [
       "                  actual     predicted\n",
       "date                                  \n",
       "2021-12-08  11396.236652  11553.177740\n",
       "2021-07-22  12175.822312  12436.813314\n",
       "2021-03-17  10930.927370  10920.830076\n",
       "2021-03-26  11462.555216  11575.089826\n",
       "2021-12-21  10015.578233   9829.332350"
      ]
     },
     "execution_count": 39,
     "metadata": {},
     "output_type": "execute_result"
    }
   ],
   "source": [
    "#Making a prediction using training data\n",
    "target_train_predict = lin_model.predict(data_train)\n",
    "\n",
    "#Exploring the prediction results\n",
    "df_train_model = pd.DataFrame()\n",
    "df_train_model[\"actual\"] = target_train\n",
    "df_train_model[\"predicted\"] = target_train_predict\n",
    "df_train_model.head()"
   ]
  },
  {
   "cell_type": "code",
   "execution_count": 40,
   "metadata": {},
   "outputs": [
    {
     "data": {
      "text/html": [
       "<div>\n",
       "<style scoped>\n",
       "    .dataframe tbody tr th:only-of-type {\n",
       "        vertical-align: middle;\n",
       "    }\n",
       "\n",
       "    .dataframe tbody tr th {\n",
       "        vertical-align: top;\n",
       "    }\n",
       "\n",
       "    .dataframe thead th {\n",
       "        text-align: right;\n",
       "    }\n",
       "</style>\n",
       "<table border=\"1\" class=\"dataframe\">\n",
       "  <thead>\n",
       "    <tr style=\"text-align: right;\">\n",
       "      <th></th>\n",
       "      <th>actual</th>\n",
       "      <th>predicted</th>\n",
       "    </tr>\n",
       "    <tr>\n",
       "      <th>date</th>\n",
       "      <th></th>\n",
       "      <th></th>\n",
       "    </tr>\n",
       "  </thead>\n",
       "  <tbody>\n",
       "    <tr>\n",
       "      <th>2021-07-13</th>\n",
       "      <td>12523.452766</td>\n",
       "      <td>12437.954071</td>\n",
       "    </tr>\n",
       "    <tr>\n",
       "      <th>2021-02-03</th>\n",
       "      <td>11356.766009</td>\n",
       "      <td>11412.853738</td>\n",
       "    </tr>\n",
       "    <tr>\n",
       "      <th>2021-01-16</th>\n",
       "      <td>11788.773072</td>\n",
       "      <td>11935.854837</td>\n",
       "    </tr>\n",
       "    <tr>\n",
       "      <th>2021-11-07</th>\n",
       "      <td>12475.579158</td>\n",
       "      <td>12564.865680</td>\n",
       "    </tr>\n",
       "    <tr>\n",
       "      <th>2021-02-27</th>\n",
       "      <td>11161.354163</td>\n",
       "      <td>11169.017012</td>\n",
       "    </tr>\n",
       "  </tbody>\n",
       "</table>\n",
       "</div>"
      ],
      "text/plain": [
       "                  actual     predicted\n",
       "date                                  \n",
       "2021-07-13  12523.452766  12437.954071\n",
       "2021-02-03  11356.766009  11412.853738\n",
       "2021-01-16  11788.773072  11935.854837\n",
       "2021-11-07  12475.579158  12564.865680\n",
       "2021-02-27  11161.354163  11169.017012"
      ]
     },
     "execution_count": 40,
     "metadata": {},
     "output_type": "execute_result"
    }
   ],
   "source": [
    "#Prediction using test data set (Which comes from the test split of the training dataset)\n",
    "target_test_predict = lin_model.predict(data_test)\n",
    "\n",
    "\n",
    "#Exploring the prediction results\n",
    "df_test_model = pd.DataFrame()\n",
    "df_test_model[\"actual\"] = target_test\n",
    "df_test_model[\"predicted\"] = target_test_predict\n",
    "df_test_model.head()"
   ]
  },
  {
   "cell_type": "code",
   "execution_count": 41,
   "metadata": {},
   "outputs": [
    {
     "data": {
      "image/png": "[encoded data removed]",
      "text/plain": [
       "<Figure size 432x288 with 1 Axes>"
      ]
     },
     "metadata": {
      "needs_background": "light"
     },
     "output_type": "display_data"
    }
   ],
   "source": [
    "#Este grafico permite detectar outliers haciendo una relacion entre \n",
    "#la dispersion del target train y para el target test, \n",
    "plt.scatter(target_train_predict, target_train_predict - target_train, c=\"steelblue\", alpha=0.25)\n",
    "plt.scatter(target_test_predict, target_test_predict - target_test, c=\"orange\", alpha=0.25)\n",
    "plt.hlines(0, 8000, 15000, linestyle=\"--\", linewidth=1)\n",
    "plt.xlim(8000, 15000)\n",
    "plt.title(\"Residuals High Corr 2\")\n",
    "plt.show()"
   ]
  },
  {
   "cell_type": "code",
   "execution_count": 42,
   "metadata": {},
   "outputs": [
    {
     "name": "stdout",
     "output_type": "stream",
     "text": [
      "RMSE for taining data: 137.6784\n",
      "RMSE for testing data: 138.4634\n"
     ]
    }
   ],
   "source": [
    "#Error\n",
    "rmse_train = (np.sqrt(mean_squared_error(target_train, target_train_predict)))\n",
    "rmse_test = (np.sqrt(mean_squared_error(target_test, target_test_predict)))\n",
    "\n",
    "print(\"RMSE for taining data: {:.4f}\".format(rmse_train))\n",
    "print(\"RMSE for testing data: {:.4f}\".format(rmse_test))"
   ]
  },
  {
   "cell_type": "code",
   "execution_count": 43,
   "metadata": {},
   "outputs": [
    {
     "data": {
      "text/html": [
       "<div>\n",
       "<style scoped>\n",
       "    .dataframe tbody tr th:only-of-type {\n",
       "        vertical-align: middle;\n",
       "    }\n",
       "\n",
       "    .dataframe tbody tr th {\n",
       "        vertical-align: top;\n",
       "    }\n",
       "\n",
       "    .dataframe thead th {\n",
       "        text-align: right;\n",
       "    }\n",
       "</style>\n",
       "<table border=\"1\" class=\"dataframe\">\n",
       "  <thead>\n",
       "    <tr style=\"text-align: right;\">\n",
       "      <th></th>\n",
       "      <th>0</th>\n",
       "    </tr>\n",
       "  </thead>\n",
       "  <tbody>\n",
       "    <tr>\n",
       "      <th>0</th>\n",
       "      <td>-15568.684021</td>\n",
       "    </tr>\n",
       "    <tr>\n",
       "      <th>1</th>\n",
       "      <td>12488.336008</td>\n",
       "    </tr>\n",
       "    <tr>\n",
       "      <th>2</th>\n",
       "      <td>12306.747886</td>\n",
       "    </tr>\n",
       "    <tr>\n",
       "      <th>3</th>\n",
       "      <td>12024.145562</td>\n",
       "    </tr>\n",
       "    <tr>\n",
       "      <th>4</th>\n",
       "      <td>12021.328925</td>\n",
       "    </tr>\n",
       "  </tbody>\n",
       "</table>\n",
       "</div>"
      ],
      "text/plain": [
       "              0\n",
       "0 -15568.684021\n",
       "1  12488.336008\n",
       "2  12306.747886\n",
       "3  12024.145562\n",
       "4  12021.328925"
      ]
     },
     "execution_count": 43,
     "metadata": {},
     "output_type": "execute_result"
    }
   ],
   "source": [
    "#Running the model with the real testing data...\n",
    "\n",
    "file = \"./train/data_01.csv\"\n",
    "df_test = pd.read_csv(file) \n",
    "\n",
    "# Set index as date so we don't have to deal with it\n",
    "df_test = df_test.set_index('date')\n",
    "\n",
    "# Handling missing values of df_test\n",
    "df_test.fillna(0, inplace = True)\n",
    "\n",
    "# Predictions using the test set\n",
    "df_test = df_test[high_corr2]\n",
    "\n",
    "y_pred = lin_model.predict(df_test)\n",
    "\n",
    "y_pred = pd.DataFrame(y_pred)\n",
    "\n",
    "y_pred.head()"
   ]
  },
  {
   "cell_type": "markdown",
   "metadata": {},
   "source": [
    "- With the High Correlation 2 features, and using the RMSE we get the error showed above\n",
    "- Nice to see that the model has become more effective with this features"
   ]
  },
  {
   "cell_type": "markdown",
   "metadata": {},
   "source": [
    "### Correlation Features #3"
   ]
  },
  {
   "cell_type": "markdown",
   "metadata": {},
   "source": [
    "For selecting this features we are going to just drop the columns that may have collinearity with the other variables.\n",
    "\n",
    "To do so, we must get a correlation matrix, as follows... "
   ]
  },
  {
   "cell_type": "code",
   "execution_count": 44,
   "metadata": {},
   "outputs": [],
   "source": [
    "# correlation_matrix = df_ss.corr()\n",
    "# correlation_labels = correlation_matrix.columns\n",
    "# plt.figure(figsize=(18,10))\n",
    "\n",
    "# # Heatmap\n",
    "# corr_im = plt.imshow(correlation_matrix, cmap=\"RdBu\", vmin=-1, vmax=1)\n",
    "# corr_cbar = plt.colorbar(corr_im, ticks=[-1, -0.5, 0, 0.5, 1])\n",
    "# corr_cbar.outline.set_visible(False)\n",
    "\n",
    "# corr_array = corr_im.get_array()\n",
    "# for i in range(correlation_matrix.shape[0]):\n",
    "#     for j in range(correlation_matrix.shape[1]):\n",
    "#         cell_value = corr_array[i][j]\n",
    "#         if cell_value > 0.5:\n",
    "#             text_color = 'white'\n",
    "#         else:\n",
    "#             text_color = 'black'\n",
    "#         plt.text(i, j, '{:.2f}'.format(cell_value), color=text_color, ha='center', va='center')\n",
    "\n",
    "# plt.yticks(ticks=range(len(correlation_labels)), labels=correlation_labels)\n",
    "# plt.xticks(ticks=range(len(correlation_labels)), labels=correlation_labels, rotation=90)\n",
    "\n",
    "# ax = plt.gca()\n",
    "# for direction in ('left', 'bottom', 'right', 'top'):\n",
    "#     ax.spines[direction].set_visible(False)\n",
    "\n",
    "# plt.title(\"Correlation Matrix\")\n",
    "# plt.show()"
   ]
  },
  {
   "cell_type": "markdown",
   "metadata": {},
   "source": [
    "Looking at this correlation matrix, we can see that we must drop the next features: ['RH', 'GGDP', 'CDT', 'LPT_IT']\n",
    "\n",
    "Edit: Just drop 'RH'"
   ]
  },
  {
   "cell_type": "code",
   "execution_count": 45,
   "metadata": {},
   "outputs": [],
   "source": [
    "high_corr3 = ['T_AMB','P_AMB', 'CMP_SPEED', 'CDP','HPT_IT', 'EXH_T', 'WAR', 'GGDP', 'CDT', 'LPT_IT']"
   ]
  },
  {
   "cell_type": "code",
   "execution_count": 46,
   "metadata": {},
   "outputs": [
    {
     "data": {
      "text/plain": [
       "['T_AMB',\n",
       " 'P_AMB',\n",
       " 'CMP_SPEED',\n",
       " 'CDP',\n",
       " 'HPT_IT',\n",
       " 'EXH_T',\n",
       " 'WAR',\n",
       " 'GGDP',\n",
       " 'CDT',\n",
       " 'LPT_IT']"
      ]
     },
     "execution_count": 46,
     "metadata": {},
     "output_type": "execute_result"
    }
   ],
   "source": [
    "high_corr3"
   ]
  },
  {
   "cell_type": "code",
   "execution_count": 47,
   "metadata": {},
   "outputs": [],
   "source": [
    "#Creating the model with Standarization of numerical values (All the rows and columns)\n",
    "# x = df_ss[high_corr3]\n",
    "# y = df_ss['POWER']\n",
    "\n",
    "x = df[high_corr3]\n",
    "y = df['POWER']"
   ]
  },
  {
   "cell_type": "code",
   "execution_count": 48,
   "metadata": {},
   "outputs": [
    {
     "name": "stdout",
     "output_type": "stream",
     "text": [
      "Train: (292, 10) (292,)\n",
      "Test:  (74, 10) (74,)\n"
     ]
    }
   ],
   "source": [
    "#Test-Train Split\n",
    "data_all = x\n",
    "target_all = y\n",
    "\n",
    "data_train, data_test, target_train, target_test = train_test_split(data_all, target_all, test_size = .2, random_state=42)\n",
    "\n",
    "print(\"Train:\", data_train.shape, target_train.shape)\n",
    "print(\"Test: \", data_test.shape, target_test.shape)\n"
   ]
  },
  {
   "cell_type": "code",
   "execution_count": 49,
   "metadata": {},
   "outputs": [],
   "source": [
    "lin_model = LinearRegression()"
   ]
  },
  {
   "cell_type": "code",
   "execution_count": 50,
   "metadata": {},
   "outputs": [
    {
     "data": {
      "text/plain": [
       "LinearRegression()"
      ]
     },
     "execution_count": 50,
     "metadata": {},
     "output_type": "execute_result"
    }
   ],
   "source": [
    "#Training the data with Training dataset\n",
    "lin_model.fit(data_train, target_train)"
   ]
  },
  {
   "cell_type": "code",
   "execution_count": 51,
   "metadata": {},
   "outputs": [
    {
     "data": {
      "text/html": [
       "<div>\n",
       "<style scoped>\n",
       "    .dataframe tbody tr th:only-of-type {\n",
       "        vertical-align: middle;\n",
       "    }\n",
       "\n",
       "    .dataframe tbody tr th {\n",
       "        vertical-align: top;\n",
       "    }\n",
       "\n",
       "    .dataframe thead th {\n",
       "        text-align: right;\n",
       "    }\n",
       "</style>\n",
       "<table border=\"1\" class=\"dataframe\">\n",
       "  <thead>\n",
       "    <tr style=\"text-align: right;\">\n",
       "      <th></th>\n",
       "      <th>actual</th>\n",
       "      <th>predicted</th>\n",
       "    </tr>\n",
       "    <tr>\n",
       "      <th>date</th>\n",
       "      <th></th>\n",
       "      <th></th>\n",
       "    </tr>\n",
       "  </thead>\n",
       "  <tbody>\n",
       "    <tr>\n",
       "      <th>2021-12-08</th>\n",
       "      <td>11396.236652</td>\n",
       "      <td>11470.460528</td>\n",
       "    </tr>\n",
       "    <tr>\n",
       "      <th>2021-07-22</th>\n",
       "      <td>12175.822312</td>\n",
       "      <td>12367.376952</td>\n",
       "    </tr>\n",
       "    <tr>\n",
       "      <th>2021-03-17</th>\n",
       "      <td>10930.927370</td>\n",
       "      <td>10997.589879</td>\n",
       "    </tr>\n",
       "    <tr>\n",
       "      <th>2021-03-26</th>\n",
       "      <td>11462.555216</td>\n",
       "      <td>11611.660422</td>\n",
       "    </tr>\n",
       "    <tr>\n",
       "      <th>2021-12-21</th>\n",
       "      <td>10015.578233</td>\n",
       "      <td>9949.799888</td>\n",
       "    </tr>\n",
       "  </tbody>\n",
       "</table>\n",
       "</div>"
      ],
      "text/plain": [
       "                  actual     predicted\n",
       "date                                  \n",
       "2021-12-08  11396.236652  11470.460528\n",
       "2021-07-22  12175.822312  12367.376952\n",
       "2021-03-17  10930.927370  10997.589879\n",
       "2021-03-26  11462.555216  11611.660422\n",
       "2021-12-21  10015.578233   9949.799888"
      ]
     },
     "execution_count": 51,
     "metadata": {},
     "output_type": "execute_result"
    }
   ],
   "source": [
    "#Making a prediction using training data\n",
    "target_train_predict = lin_model.predict(data_train)\n",
    "\n",
    "#Exploring the prediction results\n",
    "df_train_model = pd.DataFrame()\n",
    "df_train_model[\"actual\"] = target_train\n",
    "df_train_model[\"predicted\"] = target_train_predict\n",
    "df_train_model.head()"
   ]
  },
  {
   "cell_type": "code",
   "execution_count": 52,
   "metadata": {},
   "outputs": [
    {
     "data": {
      "text/html": [
       "<div>\n",
       "<style scoped>\n",
       "    .dataframe tbody tr th:only-of-type {\n",
       "        vertical-align: middle;\n",
       "    }\n",
       "\n",
       "    .dataframe tbody tr th {\n",
       "        vertical-align: top;\n",
       "    }\n",
       "\n",
       "    .dataframe thead th {\n",
       "        text-align: right;\n",
       "    }\n",
       "</style>\n",
       "<table border=\"1\" class=\"dataframe\">\n",
       "  <thead>\n",
       "    <tr style=\"text-align: right;\">\n",
       "      <th></th>\n",
       "      <th>actual</th>\n",
       "      <th>predicted</th>\n",
       "    </tr>\n",
       "    <tr>\n",
       "      <th>date</th>\n",
       "      <th></th>\n",
       "      <th></th>\n",
       "    </tr>\n",
       "  </thead>\n",
       "  <tbody>\n",
       "    <tr>\n",
       "      <th>2021-07-13</th>\n",
       "      <td>12523.452766</td>\n",
       "      <td>12445.142755</td>\n",
       "    </tr>\n",
       "    <tr>\n",
       "      <th>2021-02-03</th>\n",
       "      <td>11356.766009</td>\n",
       "      <td>11411.924031</td>\n",
       "    </tr>\n",
       "    <tr>\n",
       "      <th>2021-01-16</th>\n",
       "      <td>11788.773072</td>\n",
       "      <td>11902.780896</td>\n",
       "    </tr>\n",
       "    <tr>\n",
       "      <th>2021-11-07</th>\n",
       "      <td>12475.579158</td>\n",
       "      <td>12428.919611</td>\n",
       "    </tr>\n",
       "    <tr>\n",
       "      <th>2021-02-27</th>\n",
       "      <td>11161.354163</td>\n",
       "      <td>11048.137429</td>\n",
       "    </tr>\n",
       "  </tbody>\n",
       "</table>\n",
       "</div>"
      ],
      "text/plain": [
       "                  actual     predicted\n",
       "date                                  \n",
       "2021-07-13  12523.452766  12445.142755\n",
       "2021-02-03  11356.766009  11411.924031\n",
       "2021-01-16  11788.773072  11902.780896\n",
       "2021-11-07  12475.579158  12428.919611\n",
       "2021-02-27  11161.354163  11048.137429"
      ]
     },
     "execution_count": 52,
     "metadata": {},
     "output_type": "execute_result"
    }
   ],
   "source": [
    "#Prediction using test data set (Which comes from the test split of the training dataset)\n",
    "target_test_predict = lin_model.predict(data_test)\n",
    "\n",
    "\n",
    "#Exploring the prediction results\n",
    "df_test_model = pd.DataFrame()\n",
    "df_test_model[\"actual\"] = target_test\n",
    "df_test_model[\"predicted\"] = target_test_predict\n",
    "df_test_model.head()"
   ]
  },
  {
   "cell_type": "code",
   "execution_count": 53,
   "metadata": {},
   "outputs": [
    {
     "data": {
      "image/png": "[encoded data removed]",
      "text/plain": [
       "<Figure size 432x288 with 1 Axes>"
      ]
     },
     "metadata": {
      "needs_background": "light"
     },
     "output_type": "display_data"
    }
   ],
   "source": [
    "#Este grafico permite detectar outliers haciendo una relacion entre \n",
    "#la dispersion del target train y para el target test, \n",
    "plt.scatter(target_train_predict, target_train_predict - target_train, c=\"steelblue\", alpha=0.25)\n",
    "plt.scatter(target_test_predict, target_test_predict - target_test, c=\"orange\", alpha=0.25)\n",
    "plt.hlines(0, 8000, 15000, linestyle=\"--\", linewidth=1)\n",
    "plt.xlim(8000, 15000)\n",
    "plt.title(\"Residuals High Corr 3\")\n",
    "plt.show()"
   ]
  },
  {
   "cell_type": "code",
   "execution_count": 54,
   "metadata": {
    "scrolled": true
   },
   "outputs": [
    {
     "name": "stdout",
     "output_type": "stream",
     "text": [
      "RMSE for taining data: 118.5400\n",
      "RMSE for testing data: 120.6530\n"
     ]
    }
   ],
   "source": [
    "#Error\n",
    "rmse_train = (np.sqrt(mean_squared_error(target_train, target_train_predict)))\n",
    "rmse_test = (np.sqrt(mean_squared_error(target_test, target_test_predict)))\n",
    "\n",
    "print(\"RMSE for taining data: {:.4f}\".format(rmse_train))\n",
    "print(\"RMSE for testing data: {:.4f}\".format(rmse_test))"
   ]
  },
  {
   "cell_type": "code",
   "execution_count": 55,
   "metadata": {},
   "outputs": [
    {
     "data": {
      "text/html": [
       "<div>\n",
       "<style scoped>\n",
       "    .dataframe tbody tr th:only-of-type {\n",
       "        vertical-align: middle;\n",
       "    }\n",
       "\n",
       "    .dataframe tbody tr th {\n",
       "        vertical-align: top;\n",
       "    }\n",
       "\n",
       "    .dataframe thead th {\n",
       "        text-align: right;\n",
       "    }\n",
       "</style>\n",
       "<table border=\"1\" class=\"dataframe\">\n",
       "  <thead>\n",
       "    <tr style=\"text-align: right;\">\n",
       "      <th></th>\n",
       "      <th>0</th>\n",
       "    </tr>\n",
       "  </thead>\n",
       "  <tbody>\n",
       "    <tr>\n",
       "      <th>0</th>\n",
       "      <td>-40417.833967</td>\n",
       "    </tr>\n",
       "    <tr>\n",
       "      <th>1</th>\n",
       "      <td>-17747.081464</td>\n",
       "    </tr>\n",
       "    <tr>\n",
       "      <th>2</th>\n",
       "      <td>-18233.513717</td>\n",
       "    </tr>\n",
       "    <tr>\n",
       "      <th>3</th>\n",
       "      <td>-18385.794623</td>\n",
       "    </tr>\n",
       "    <tr>\n",
       "      <th>4</th>\n",
       "      <td>-18540.392882</td>\n",
       "    </tr>\n",
       "  </tbody>\n",
       "</table>\n",
       "</div>"
      ],
      "text/plain": [
       "              0\n",
       "0 -40417.833967\n",
       "1 -17747.081464\n",
       "2 -18233.513717\n",
       "3 -18385.794623\n",
       "4 -18540.392882"
      ]
     },
     "execution_count": 55,
     "metadata": {},
     "output_type": "execute_result"
    }
   ],
   "source": [
    "#Running the model with the real testing data...\n",
    "\n",
    "file = \"./train/data_01.csv\"\n",
    "df_test = pd.read_csv(file) \n",
    "\n",
    "# Set index as date so we don't have to deal with it\n",
    "df_test = df_test.set_index('date')\n",
    "\n",
    "# Handling missing values of df_test\n",
    "df_test.fillna(0, inplace = True)\n",
    "\n",
    "# Predictions using the test set\n",
    "df_test = df_test[high_corr3]\n",
    "\n",
    "y_pred = lin_model.predict(df_test)\n",
    "\n",
    "y_pred = pd.DataFrame(y_pred)\n",
    "\n",
    "y_pred.head()"
   ]
  },
  {
   "cell_type": "markdown",
   "metadata": {},
   "source": [
    "Trying to get good result for exporting a csv\n"
   ]
  },
  {
   "cell_type": "code",
   "execution_count": 56,
   "metadata": {},
   "outputs": [],
   "source": [
    "# # Let's add dates\n",
    "# target_test['date'] = target_test_predict.index # take dates from original test set\n",
    "# y_pred.columns =  ['POWER', 'date'] # rename cols names\n",
    "# y_pred = y_pred[['date','POWER']] # rearrange cols\n",
    "# # y_pred['date'] = pd.to_datetime(df_test.index).strftime('%m-%d-%Y')\n",
    "# y_pred['date'] = pd.to_datetime(df_test.index).strftime('%m-%d-%Y')\n",
    "# y_pred.head()\n",
    "\n"
   ]
  },
  {
   "cell_type": "markdown",
   "metadata": {},
   "source": [
    "----------------------------------------------------"
   ]
  },
  {
   "cell_type": "markdown",
   "metadata": {},
   "source": [
    "So the better results comes from the 3rd Feature Selection Process, in which the varbiable RH were dropped.\n",
    "\n",
    "Let's take those features for running the model with another algorithm like Ridge Regression.\n"
   ]
  },
  {
   "cell_type": "markdown",
   "metadata": {},
   "source": [
    "# Ridge Regression Model"
   ]
  },
  {
   "cell_type": "code",
   "execution_count": 57,
   "metadata": {},
   "outputs": [],
   "source": [
    "ridge = Ridge(alpha = 1.0)"
   ]
  },
  {
   "cell_type": "code",
   "execution_count": 58,
   "metadata": {},
   "outputs": [],
   "source": [
    "#Training the data with Training dataset\n",
    "ridge.fit(data_train, target_train)\n",
    "\n",
    "#Making a prediction using training data\n",
    "target_train_predict = ridge.predict(data_train)"
   ]
  },
  {
   "cell_type": "code",
   "execution_count": 59,
   "metadata": {},
   "outputs": [
    {
     "data": {
      "text/html": [
       "<div>\n",
       "<style scoped>\n",
       "    .dataframe tbody tr th:only-of-type {\n",
       "        vertical-align: middle;\n",
       "    }\n",
       "\n",
       "    .dataframe tbody tr th {\n",
       "        vertical-align: top;\n",
       "    }\n",
       "\n",
       "    .dataframe thead th {\n",
       "        text-align: right;\n",
       "    }\n",
       "</style>\n",
       "<table border=\"1\" class=\"dataframe\">\n",
       "  <thead>\n",
       "    <tr style=\"text-align: right;\">\n",
       "      <th></th>\n",
       "      <th>actual</th>\n",
       "      <th>predicted</th>\n",
       "    </tr>\n",
       "    <tr>\n",
       "      <th>date</th>\n",
       "      <th></th>\n",
       "      <th></th>\n",
       "    </tr>\n",
       "  </thead>\n",
       "  <tbody>\n",
       "    <tr>\n",
       "      <th>2021-12-08</th>\n",
       "      <td>11396.236652</td>\n",
       "      <td>11522.059485</td>\n",
       "    </tr>\n",
       "    <tr>\n",
       "      <th>2021-07-22</th>\n",
       "      <td>12175.822312</td>\n",
       "      <td>12436.160711</td>\n",
       "    </tr>\n",
       "    <tr>\n",
       "      <th>2021-03-17</th>\n",
       "      <td>10930.927370</td>\n",
       "      <td>10855.481094</td>\n",
       "    </tr>\n",
       "    <tr>\n",
       "      <th>2021-03-26</th>\n",
       "      <td>11462.555216</td>\n",
       "      <td>11530.347961</td>\n",
       "    </tr>\n",
       "    <tr>\n",
       "      <th>2021-12-21</th>\n",
       "      <td>10015.578233</td>\n",
       "      <td>9878.045171</td>\n",
       "    </tr>\n",
       "  </tbody>\n",
       "</table>\n",
       "</div>"
      ],
      "text/plain": [
       "                  actual     predicted\n",
       "date                                  \n",
       "2021-12-08  11396.236652  11522.059485\n",
       "2021-07-22  12175.822312  12436.160711\n",
       "2021-03-17  10930.927370  10855.481094\n",
       "2021-03-26  11462.555216  11530.347961\n",
       "2021-12-21  10015.578233   9878.045171"
      ]
     },
     "execution_count": 59,
     "metadata": {},
     "output_type": "execute_result"
    }
   ],
   "source": [
    "#Exploring the prediction results\n",
    "df_train_model = pd.DataFrame()\n",
    "df_train_model[\"actual\"] = target_train\n",
    "df_train_model[\"predicted\"] = target_train_predict\n",
    "df_train_model.head()"
   ]
  },
  {
   "cell_type": "code",
   "execution_count": 60,
   "metadata": {},
   "outputs": [
    {
     "data": {
      "text/html": [
       "<div>\n",
       "<style scoped>\n",
       "    .dataframe tbody tr th:only-of-type {\n",
       "        vertical-align: middle;\n",
       "    }\n",
       "\n",
       "    .dataframe tbody tr th {\n",
       "        vertical-align: top;\n",
       "    }\n",
       "\n",
       "    .dataframe thead th {\n",
       "        text-align: right;\n",
       "    }\n",
       "</style>\n",
       "<table border=\"1\" class=\"dataframe\">\n",
       "  <thead>\n",
       "    <tr style=\"text-align: right;\">\n",
       "      <th></th>\n",
       "      <th>actual</th>\n",
       "      <th>predicted</th>\n",
       "    </tr>\n",
       "    <tr>\n",
       "      <th>date</th>\n",
       "      <th></th>\n",
       "      <th></th>\n",
       "    </tr>\n",
       "  </thead>\n",
       "  <tbody>\n",
       "    <tr>\n",
       "      <th>2021-07-13</th>\n",
       "      <td>12523.452766</td>\n",
       "      <td>12392.322335</td>\n",
       "    </tr>\n",
       "    <tr>\n",
       "      <th>2021-02-03</th>\n",
       "      <td>11356.766009</td>\n",
       "      <td>11424.008483</td>\n",
       "    </tr>\n",
       "    <tr>\n",
       "      <th>2021-01-16</th>\n",
       "      <td>11788.773072</td>\n",
       "      <td>11950.289157</td>\n",
       "    </tr>\n",
       "    <tr>\n",
       "      <th>2021-11-07</th>\n",
       "      <td>12475.579158</td>\n",
       "      <td>12479.368300</td>\n",
       "    </tr>\n",
       "    <tr>\n",
       "      <th>2021-02-27</th>\n",
       "      <td>11161.354163</td>\n",
       "      <td>11177.959389</td>\n",
       "    </tr>\n",
       "  </tbody>\n",
       "</table>\n",
       "</div>"
      ],
      "text/plain": [
       "                  actual     predicted\n",
       "date                                  \n",
       "2021-07-13  12523.452766  12392.322335\n",
       "2021-02-03  11356.766009  11424.008483\n",
       "2021-01-16  11788.773072  11950.289157\n",
       "2021-11-07  12475.579158  12479.368300\n",
       "2021-02-27  11161.354163  11177.959389"
      ]
     },
     "execution_count": 60,
     "metadata": {},
     "output_type": "execute_result"
    }
   ],
   "source": [
    "#Prediction using test data set (Which comes from the test split of the training dataset)\n",
    "target_test_predict = ridge.predict(data_test)\n",
    "\n",
    "\n",
    "#Exploring the prediction results\n",
    "df_test_model = pd.DataFrame()\n",
    "df_test_model[\"actual\"] = target_test\n",
    "df_test_model[\"predicted\"] = target_test_predict\n",
    "df_test_model.head()"
   ]
  },
  {
   "cell_type": "code",
   "execution_count": 61,
   "metadata": {},
   "outputs": [
    {
     "name": "stdout",
     "output_type": "stream",
     "text": [
      "RMSE for taining data: 138.7914\n",
      "RMSE for testing data: 128.7453\n"
     ]
    }
   ],
   "source": [
    "#Error\n",
    "rmse_train = (np.sqrt(mean_squared_error(target_train, target_train_predict)))\n",
    "rmse_test = (np.sqrt(mean_squared_error(target_test, target_test_predict)))\n",
    "\n",
    "print(\"RMSE for taining data: {:.4f}\".format(rmse_train))\n",
    "print(\"RMSE for testing data: {:.4f}\".format(rmse_test))"
   ]
  },
  {
   "cell_type": "markdown",
   "metadata": {},
   "source": [
    "## Ridge Regression CV (Cross Validation)"
   ]
  },
  {
   "cell_type": "code",
   "execution_count": 62,
   "metadata": {},
   "outputs": [],
   "source": [
    "# Create ridge regression with three possible alpha values\n",
    "regr_cv = RidgeCV(alphas=[0.1, 0.1, 1.0, 10.0])\n"
   ]
  },
  {
   "cell_type": "code",
   "execution_count": 63,
   "metadata": {},
   "outputs": [],
   "source": [
    "#Fit the Ridge regression\n",
    "model_cv = regr_cv.fit(data_train, target_train)"
   ]
  },
  {
   "cell_type": "code",
   "execution_count": 64,
   "metadata": {},
   "outputs": [
    {
     "data": {
      "text/plain": [
       "0.1"
      ]
     },
     "execution_count": 64,
     "metadata": {},
     "output_type": "execute_result"
    }
   ],
   "source": [
    "# View alpha\n",
    "model_cv.alpha_\n"
   ]
  },
  {
   "cell_type": "code",
   "execution_count": null,
   "metadata": {},
   "outputs": [],
   "source": []
  }
 ],
 "metadata": {
  "kernelspec": {
   "display_name": "Python 3 (ipykernel)",
   "language": "python",
   "name": "python3"
  },
  "language_info": {
   "codemirror_mode": {
    "name": "ipython",
    "version": 3
   },
   "file_extension": ".py",
   "mimetype": "text/x-python",
   "name": "python",
   "nbconvert_exporter": "python",
   "pygments_lexer": "ipython3",
   "version": "3.9.12"
  }
 },
 "nbformat": 4,
 "nbformat_minor": 4
}
